{
 "cells": [
  {
   "cell_type": "code",
   "execution_count": 1,
   "metadata": {},
   "outputs": [
    {
     "name": "stdout",
     "output_type": "stream",
     "text": [
      "env: XLA_FLAGS=--xla_gpu_cuda_data_dir=/usr/local/cuda/\n",
      "env: XLA_PYTHON_CLIENT_PREALLOCATE=false\n",
      "env: XLA_PYTHON_CLIENT_ALLOCATOR=platform\n"
     ]
    }
   ],
   "source": [
    "%env XLA_FLAGS=--xla_gpu_cuda_data_dir=/usr/local/cuda/\n",
    "%env XLA_PYTHON_CLIENT_PREALLOCATE=false\n",
    "%env XLA_PYTHON_CLIENT_ALLOCATOR=platform\n",
    "%load_ext autoreload\n",
    "%autoreload 2\n",
    "%matplotlib inline\n",
    "import os\n",
    "import numpy as np\n",
    "import jax\n",
    "from jax import random\n",
    "import jax.numpy as jnp\n",
    "import numpyro as npr\n",
    "import matplotlib\n",
    "import matplotlib.cm as cm\n",
    "import matplotlib.dates as mdates\n",
    "import tqdm\n",
    "from math import *\n",
    "import numpyro.distributions as dist\n",
    "import seaborn as sns\n",
    "sns.set_style('white')\n",
    "\n",
    "matplotlib.rcParams['figure.figsize'] = (8,5)\n",
    "matplotlib.rcParams['font.size'] = 10\n",
    "matplotlib.rcParams['font.family'] = \"serif\"\n",
    "matplotlib.rcParams['font.serif'] = 'Times'\n",
    "matplotlib.rcParams['text.usetex'] = True\n",
    "matplotlib.rcParams['lines.linewidth'] = 1\n",
    "plt = matplotlib.pyplot\n",
    "\n",
    "npr.set_platform('gpu')"
   ]
  },
  {
   "cell_type": "markdown",
   "metadata": {},
   "source": [
    "### Model"
   ]
  },
  {
   "cell_type": "code",
   "execution_count": 2,
   "metadata": {},
   "outputs": [],
   "source": [
    "# Hyperparams\n",
    "sigma = 0.09\n",
    "nu = 12\n",
    "NUM_STEPS = 100\n",
    "\n",
    "\n",
    "def model(y, theta=None, rng_key=random.PRNGKey(1)):\n",
    "    \"\"\" PyMC3 example http://num.pyro.ai/en/0.6.0/examples/stochastic_volatility.html \"\"\"\n",
    "    rng_key, rng_subkey = random.split(rng_key)\n",
    "\n",
    "    num_steps = len(y) if y is not None else NUM_STEPS\n",
    "    \n",
    "    if theta is None:\n",
    "        log_vol = npr.sample(\n",
    "            'theta', dist.GaussianRandomWalk(scale=sigma, num_steps=num_steps), rng_key=rng_subkey\n",
    "        )\n",
    "    else:\n",
    "        log_vol = theta\n",
    "    \n",
    "    rng_key, rng_subkey = random.split(rng_key)\n",
    "    returns = npr.sample('y', dist.StudentT(df=nu, loc=0., scale=jnp.exp(log_vol)),\n",
    "                         rng_key=rng_subkey, obs=y)\n",
    "    \n",
    "    if theta is None and y is None:  \n",
    "        return log_vol  # Sample latent\n",
    "    else:  \n",
    "        return returns  # Given latent, sample y"
   ]
  },
  {
   "cell_type": "markdown",
   "metadata": {},
   "source": [
    "#### VB"
   ]
  },
  {
   "cell_type": "code",
   "execution_count": 3,
   "metadata": {},
   "outputs": [
    {
     "name": "stdout",
     "output_type": "stream",
     "text": [
      "M = 10000.0, R = 31, N = 323, N*R = 10013\n"
     ]
    }
   ],
   "source": [
    "from numpyro.infer import MCMC, NUTS, SVI, Trace_ELBO\n",
    "from numpyro.infer.autoguide import *\n",
    "from jax import jit\n",
    "\n",
    "\n",
    "M = 1e4\n",
    "R = 31 \n",
    "N = round(10.42*R)\n",
    "\n",
    "print(f'M = {M}, R = {R}, N = {N}, N*R = {N*R}')\n",
    "\n",
    "\n",
    "@jit\n",
    "def vb_diag(rng_key, y):    \n",
    "    key, *subkeys = random.split(rng_key, 3)\n",
    "    \n",
    "    guide = AutoDiagonalNormal(model)\n",
    "    lr = 1e-3\n",
    "    n_iter = 5000\n",
    "\n",
    "    optimizer = npr.optim.ClippedAdam(step_size=lr)\n",
    "    svi = SVI(model, guide, optimizer, loss=Trace_ELBO(num_particles=100))\n",
    "    svi_result = svi.run(subkeys[0], n_iter, y=y, progress_bar=False)\n",
    "    \n",
    "    theta = guide.sample_posterior(subkeys[1], svi_result.params, sample_shape=(R,))['theta']\n",
    "    return theta\n",
    "\n",
    "@jit\n",
    "def vb_full(rng_key, y):    \n",
    "    key, *subkeys = random.split(rng_key, 3)\n",
    "    \n",
    "    guide = AutoMultivariateNormal(model)\n",
    "    lr = 5e-4  # Unstable with large lr\n",
    "    n_iter = 10000  # Compensate with larger num. of iterations\n",
    "    \n",
    "    optimizer = npr.optim.ClippedAdam(step_size=lr)\n",
    "    svi = SVI(model, guide, optimizer, loss=Trace_ELBO(num_particles=100))\n",
    "    svi_result = svi.run(subkeys[0], n_iter, y=y, progress_bar=False)\n",
    "    \n",
    "    theta = guide.sample_posterior(subkeys[1], svi_result.params, sample_shape=(R,))['theta']\n",
    "    return theta\n",
    "\n",
    "@jit\n",
    "def mcmc_short(rng_key, y):    \n",
    "    mcmc = MCMC(NUTS(model), num_warmup=5, num_samples=5, progress_bar=False,\n",
    "                num_chains=R, chain_method='vectorized')\n",
    "    mcmc.run(rng_key, y)\n",
    "\n",
    "    # Last sample from each R chains\n",
    "    theta = mcmc.get_samples(group_by_chain=True)['theta'][:, -1, :]\n",
    "    \n",
    "    return theta\n",
    "\n",
    "\n",
    "@jit\n",
    "def mcmc_long(rng_key, y):    \n",
    "    mcmc = MCMC(NUTS(model), num_warmup=20, num_samples=20, progress_bar=False,\n",
    "                num_chains=R, chain_method='vectorized')\n",
    "    mcmc.run(rng_key, y)\n",
    "\n",
    "    # Last sample from each R chains\n",
    "    theta = mcmc.get_samples(group_by_chain=True)['theta'][:, -1, :]\n",
    "    \n",
    "    return theta"
   ]
  },
  {
   "cell_type": "code",
   "execution_count": 4,
   "metadata": {},
   "outputs": [],
   "source": [
    "POSTERIORS = ['vb_diag', 'vb_full', 'mcmc_long', 'mcmc_short']\n",
    "POSTERIOR_FUNCS = {\n",
    "    'vb_diag': vb_diag, \n",
    "    'vb_full': vb_full, \n",
    "    'mcmc_short': mcmc_short,\n",
    "    'mcmc_long': mcmc_long\n",
    "}"
   ]
  },
  {
   "cell_type": "markdown",
   "metadata": {},
   "source": [
    "### Baseline (Talts et al.)"
   ]
  },
  {
   "cell_type": "code",
   "execution_count": 5,
   "metadata": {},
   "outputs": [
    {
     "name": "stderr",
     "output_type": "stream",
     "text": [
      "100%|██████████| 323/323 [01:51<00:00,  2.89it/s]\n",
      "100%|██████████| 323/323 [11:21<00:00,  2.11s/it]\n",
      "100%|██████████| 323/323 [07:33<00:00,  1.40s/it]\n",
      "100%|██████████| 323/323 [00:23<00:00, 14.00it/s]\n"
     ]
    }
   ],
   "source": [
    "def run_baseline(posterior, rng_key=random.PRNGKey(1234)):    \n",
    "    results = np.zeros([N, R+1, NUM_STEPS])\n",
    "    \n",
    "    for n in tqdm.trange(N):\n",
    "        rng_key, *subkeys = random.split(rng_key, 4)\n",
    "        \n",
    "        # Get theta ~ p(theta)\n",
    "        theta_prior = dist.GaussianRandomWalk(scale=sigma, num_steps=NUM_STEPS).rsample(subkeys[0])\n",
    "        results[n, 0, :] = theta_prior  # (NUM_STEPS,)\n",
    "        \n",
    "        # Get theta ~ q(theta | y)\n",
    "        y  = model(y=None, theta=theta_prior, rng_key=subkeys[1])\n",
    "        theta = POSTERIOR_FUNCS[posterior](subkeys[2], y=y)\n",
    "        results[n, 1:, :] = np.array(theta).squeeze()  # (R, NUM_STEPS)\n",
    "                \n",
    "    return results\n",
    "\n",
    "    \n",
    "for posterior in POSTERIORS:    \n",
    "    results = run_baseline(posterior=posterior)\n",
    "    np.save(f'../../results/baseline/baseline_{posterior}.npy', results)"
   ]
  },
  {
   "cell_type": "code",
   "execution_count": null,
   "metadata": {},
   "outputs": [],
   "source": []
  }
 ],
 "metadata": {
  "kernelspec": {
   "display_name": "Python 3 (ipykernel)",
   "language": "python",
   "name": "python3"
  },
  "language_info": {
   "codemirror_mode": {
    "name": "ipython",
    "version": 3
   },
   "file_extension": ".py",
   "mimetype": "text/x-python",
   "name": "python",
   "nbconvert_exporter": "python",
   "pygments_lexer": "ipython3",
   "version": "3.9.5"
  }
 },
 "nbformat": 4,
 "nbformat_minor": 4
}
