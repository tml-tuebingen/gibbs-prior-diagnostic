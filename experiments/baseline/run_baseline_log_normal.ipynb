{
 "cells": [
  {
   "cell_type": "code",
   "execution_count": 1,
   "metadata": {},
   "outputs": [],
   "source": [
    "import warnings\n",
    "warnings.filterwarnings('ignore')\n",
    "\n",
    "# %env XLA_FLAGS=--xla_gpu_cuda_data_dir=/usr/local/cuda/\n",
    "%load_ext autoreload\n",
    "%autoreload 2\n",
    "import os\n",
    "import numpy as np\n",
    "from jax import random\n",
    "import jax.numpy as jnp\n",
    "import numpyro as npr\n",
    "import tqdm as tqdm\n",
    "from math import *\n",
    "import numpyro.distributions as dist\n",
    "\n",
    "\n",
    "npr.set_platform('gpu')"
   ]
  },
  {
   "cell_type": "markdown",
   "metadata": {},
   "source": [
    "### Models"
   ]
  },
  {
   "cell_type": "markdown",
   "metadata": {},
   "source": [
    "#### True model (sample from exact likelihood)"
   ]
  },
  {
   "cell_type": "code",
   "execution_count": 2,
   "metadata": {},
   "outputs": [
    {
     "data": {
      "text/plain": [
       "DeviceArray(7.4827366, dtype=float32)"
      ]
     },
     "execution_count": 2,
     "metadata": {},
     "output_type": "execute_result"
    }
   ],
   "source": [
    "L = 10\n",
    "\n",
    "def model_true(y=None, theta=None, rng_key=random.PRNGKey(1)):\n",
    "    key, *subkeys = random.split(rng_key, 5)  # subkeys\n",
    "    \n",
    "    if theta is None:\n",
    "        # Sample from priors \\pi(\\mu, \\sigma^2)\n",
    "        mu = npr.sample('mu', dist.Normal(0, 1), rng_key=subkeys[0])\n",
    "        sigma_sq = npr.sample('sigma_sq', dist.Gamma(1, 1), rng_key=subkeys[1])\n",
    "    else:\n",
    "        mu, sigma_sq = theta\n",
    "    \n",
    "    # The true likelihood, sum of LogNormal rvs.\n",
    "    with npr.plate('L', L):\n",
    "        x = npr.sample('X', dist.LogNormal(mu, jnp.sqrt(sigma_sq)), rng_key=subkeys[2])\n",
    "        \n",
    "    out = npr.sample('Y', dist.Delta(x.sum(0)), rng_key=subkeys[3], obs=y)\n",
    "        \n",
    "    if theta is None and y is not None:\n",
    "        return (mu, sigma_sq)\n",
    "    else:\n",
    "        return out\n",
    "    \n",
    "    \n",
    "# Test\n",
    "model_true()"
   ]
  },
  {
   "cell_type": "markdown",
   "metadata": {},
   "source": [
    "#### Approximate model"
   ]
  },
  {
   "cell_type": "code",
   "execution_count": 3,
   "metadata": {},
   "outputs": [
    {
     "data": {
      "text/plain": [
       "DeviceArray(0.8266345, dtype=float32)"
      ]
     },
     "execution_count": 3,
     "metadata": {},
     "output_type": "execute_result"
    }
   ],
   "source": [
    "def model_abc(y=None, theta=None, rng_key=random.PRNGKey(1)):\n",
    "    key, *subkeys = random.split(rng_key, 4)  # subkeys\n",
    "    \n",
    "    if theta is None:\n",
    "        # Sample from priors \\pi(\\mu, \\sigma^2)\n",
    "        mu = npr.sample('mu', dist.Normal(0, 1), rng_key=subkeys[0])\n",
    "        sigma_sq = npr.sample('sigma_sq', dist.Gamma(1, 1), rng_key=subkeys[1])\n",
    "    else:\n",
    "        mu, sigma_sq = theta\n",
    "    \n",
    "    # Approximate likelihood\n",
    "    beta_sq = jnp.log((jnp.exp(sigma_sq)-1)/L + 1)\n",
    "    alpha = mu + jnp.log(L) + 0.5*(sigma_sq - beta_sq)\n",
    "        \n",
    "    out = npr.sample('Y', dist.LogNormal(alpha, jnp.sqrt(beta_sq)), rng_key=subkeys[2], obs=y)\n",
    "    \n",
    "    if theta is None and y is not None:\n",
    "        return (mu, sigma_sq)\n",
    "    else:\n",
    "        return out\n",
    "    \n",
    "    \n",
    "# Test\n",
    "model_abc()"
   ]
  },
  {
   "cell_type": "markdown",
   "metadata": {},
   "source": [
    "### Methods"
   ]
  },
  {
   "cell_type": "code",
   "execution_count": 4,
   "metadata": {},
   "outputs": [
    {
     "name": "stdout",
     "output_type": "stream",
     "text": [
      "M = 10000.0, R = 31, N = 323, N*R = 10013\n"
     ]
    }
   ],
   "source": [
    "from numpyro.infer import SVI, Trace_ELBO, MCMC, NUTS\n",
    "from numpyro.infer.autoguide import *\n",
    "from jax import jit\n",
    "\n",
    "M = 1e4\n",
    "R = 31 \n",
    "N = round(10.42*R)\n",
    "\n",
    "print(f'M = {M}, R = {R}, N = {N}, N*R = {N*R}')\n",
    "\n",
    "\n",
    "@jit\n",
    "def laplace(rng_key, y):    \n",
    "    key, *subkeys = random.split(rng_key, 4)\n",
    "    \n",
    "    guide = AutoLaplaceApproximation(model_abc)\n",
    "    lr = 1e-3\n",
    "    n_iter = 5000\n",
    "\n",
    "    optimizer = npr.optim.ClippedAdam(step_size=lr)\n",
    "    svi = SVI(model_abc, guide, optimizer, loss=Trace_ELBO(num_particles=1))\n",
    "    svi_result = svi.run(rng_key, n_iter, y=y, progress_bar=False)\n",
    "    \n",
    "    thetas = guide.sample_posterior(subkeys[1], svi_result.params, sample_shape=(R,))\n",
    "    return thetas['mu'], thetas['sigma_sq']"
   ]
  },
  {
   "cell_type": "markdown",
   "metadata": {},
   "source": [
    "### Baseline (Talts et al.)"
   ]
  },
  {
   "cell_type": "code",
   "execution_count": 5,
   "metadata": {
    "pycharm": {
     "name": "#%%\n"
    }
   },
   "outputs": [
    {
     "name": "stderr",
     "output_type": "stream",
     "text": [
      "100%|██████████| 323/323 [00:31<00:00, 10.27it/s]\n"
     ]
    }
   ],
   "source": [
    "def run_baseline(rng_key=random.PRNGKey(1234)):    \n",
    "    results = np.zeros([N, R+1, 2])\n",
    "    \n",
    "    for n in tqdm.trange(N):\n",
    "        rng_key, *subkeys = random.split(rng_key, 5)\n",
    "        \n",
    "        mu_prior = dist.Normal(0, 1).rsample(subkeys[0])\n",
    "        sigma_sq_prior = dist.Gamma(1, 1).rsample(subkeys[1])\n",
    "        results[n, 0, :] = np.array([mu_prior, sigma_sq_prior])  # (2,)\n",
    "        \n",
    "        y  = model_true(y=None, theta=(mu_prior, sigma_sq_prior), rng_key=subkeys[2])\n",
    "        mus, sigma_sqs = laplace(subkeys[3], y)\n",
    "        results[n, 1:, :] = np.stack([mus, sigma_sqs]).T  # (R, 2)\n",
    "                \n",
    "    return results\n",
    "        \n",
    "results = run_baseline()\n",
    "np.save('../../results/baseline/baseline_log_normal.npy', results)"
   ]
  },
  {
   "cell_type": "code",
   "execution_count": null,
   "metadata": {},
   "outputs": [],
   "source": []
  }
 ],
 "metadata": {
  "interpreter": {
   "hash": "855197d9c62a73cc2c51e637634bb511a545a038af5d82db93d73410e68ac068"
  },
  "kernelspec": {
   "display_name": "Python 3 (ipykernel)",
   "language": "python",
   "name": "python3"
  },
  "language_info": {
   "codemirror_mode": {
    "name": "ipython",
    "version": 3
   },
   "file_extension": ".py",
   "mimetype": "text/x-python",
   "name": "python",
   "nbconvert_exporter": "python",
   "pygments_lexer": "ipython3",
   "version": "3.9.5"
  }
 },
 "nbformat": 4,
 "nbformat_minor": 4
}
