{
 "cells": [
  {
   "cell_type": "code",
   "execution_count": 1,
   "metadata": {},
   "outputs": [
    {
     "name": "stdout",
     "output_type": "stream",
     "text": [
      "env: XLA_FLAGS=--xla_gpu_cuda_data_dir=/usr/local/cuda/\n",
      "env: XLA_PYTHON_CLIENT_PREALLOCATE=false\n",
      "env: XLA_PYTHON_CLIENT_ALLOCATOR=platform\n"
     ]
    }
   ],
   "source": [
    "%env XLA_FLAGS=--xla_gpu_cuda_data_dir=/usr/local/cuda/\n",
    "%env XLA_PYTHON_CLIENT_PREALLOCATE=false\n",
    "%env XLA_PYTHON_CLIENT_ALLOCATOR=platform\n",
    "%load_ext autoreload\n",
    "%autoreload 2\n",
    "%matplotlib inline\n",
    "import os\n",
    "import numpy as np\n",
    "import jax\n",
    "from jax import random\n",
    "import jax.numpy as jnp\n",
    "import numpyro as npr\n",
    "import matplotlib\n",
    "import matplotlib.cm as cm\n",
    "import matplotlib.dates as mdates\n",
    "import tqdm\n",
    "from math import *\n",
    "import numpyro.distributions as dist\n",
    "import seaborn as sns\n",
    "sns.set_style('white')\n",
    "\n",
    "matplotlib.rcParams['figure.figsize'] = (8,5)\n",
    "matplotlib.rcParams['font.size'] = 10\n",
    "matplotlib.rcParams['font.family'] = \"serif\"\n",
    "matplotlib.rcParams['font.serif'] = 'Times'\n",
    "matplotlib.rcParams['text.usetex'] = True\n",
    "matplotlib.rcParams['lines.linewidth'] = 1\n",
    "plt = matplotlib.pyplot\n",
    "\n",
    "npr.set_platform('gpu')"
   ]
  },
  {
   "cell_type": "markdown",
   "metadata": {},
   "source": [
    "### Model"
   ]
  },
  {
   "cell_type": "code",
   "execution_count": 2,
   "metadata": {},
   "outputs": [],
   "source": [
    "# Hyperparams\n",
    "sigma = 0.09\n",
    "nu = 12\n",
    "NUM_STEPS = 100\n",
    "\n",
    "\n",
    "def model(y, theta=None, rng_key=random.PRNGKey(1)):\n",
    "    \"\"\" PyMC3 example http://num.pyro.ai/en/0.6.0/examples/stochastic_volatility.html \"\"\"\n",
    "    rng_key, rng_subkey = random.split(rng_key)\n",
    "\n",
    "    num_steps = len(y) if y is not None else NUM_STEPS\n",
    "    \n",
    "    if theta is None:\n",
    "        log_vol = npr.sample(\n",
    "            'theta', dist.GaussianRandomWalk(scale=sigma, num_steps=num_steps), rng_key=rng_subkey\n",
    "        )\n",
    "    else:\n",
    "        log_vol = theta\n",
    "    \n",
    "    rng_key, rng_subkey = random.split(rng_key)\n",
    "    returns = npr.sample('y', dist.StudentT(df=nu, loc=0., scale=jnp.exp(log_vol)),\n",
    "                         rng_key=rng_subkey, obs=y)\n",
    "    \n",
    "    if theta is None and y is None:  \n",
    "        return log_vol  # Sample latent\n",
    "    else:  \n",
    "        return returns  # Given latent, sample y"
   ]
  },
  {
   "cell_type": "markdown",
   "metadata": {},
   "source": [
    "### Methods"
   ]
  },
  {
   "cell_type": "code",
   "execution_count": 3,
   "metadata": {},
   "outputs": [],
   "source": [
    "from numpyro.infer import MCMC, NUTS, SVI, Trace_ELBO\n",
    "from numpyro.infer.autoguide import *\n",
    "from jax import jit\n",
    "\n",
    "\n",
    "@jit\n",
    "def vb_diag(rng_key, y):    \n",
    "    key, *subkeys = random.split(rng_key, 3)\n",
    "    \n",
    "    guide = AutoDiagonalNormal(model)\n",
    "    lr = 1e-3\n",
    "    n_iter = 5000\n",
    "\n",
    "    optimizer = npr.optim.ClippedAdam(step_size=lr)\n",
    "    svi = SVI(model, guide, optimizer, loss=Trace_ELBO(num_particles=100))\n",
    "    svi_result = svi.run(subkeys[0], n_iter, y=y, progress_bar=False)\n",
    "    \n",
    "    theta = guide.sample_posterior(subkeys[1], svi_result.params)['theta']\n",
    "    return theta\n",
    "\n",
    "@jit\n",
    "def vb_full(rng_key, y):    \n",
    "    key, *subkeys = random.split(rng_key, 3)\n",
    "    \n",
    "    guide = AutoMultivariateNormal(model)\n",
    "    lr = 5e-4  # Unstable with large lr\n",
    "    n_iter = 10000  # Compensate with larger num. of iterations\n",
    "    \n",
    "    optimizer = npr.optim.ClippedAdam(step_size=lr)\n",
    "    svi = SVI(model, guide, optimizer, loss=Trace_ELBO(num_particles=100))\n",
    "    svi_result = svi.run(subkeys[0], n_iter, y=y, progress_bar=False)\n",
    "    \n",
    "    theta = guide.sample_posterior(subkeys[1], svi_result.params)['theta']\n",
    "    return theta\n",
    "\n",
    "@jit\n",
    "def mcmc_short(rng_key, y):    \n",
    "    mcmc = MCMC(NUTS(model), num_warmup=5, num_samples=5, progress_bar=False)\n",
    "    mcmc.run(rng_key, y)\n",
    "\n",
    "    theta = mcmc.get_samples()['theta'][-1]\n",
    "    return theta\n",
    "\n",
    "\n",
    "@jit\n",
    "def mcmc_long(rng_key, y):    \n",
    "    mcmc = MCMC(NUTS(model), num_warmup=20, num_samples=20, progress_bar=False)\n",
    "    mcmc.run(rng_key, y)\n",
    "\n",
    "    theta = mcmc.get_samples()['theta'][-1]\n",
    "    return theta"
   ]
  },
  {
   "cell_type": "markdown",
   "metadata": {},
   "source": [
    "### Sampling $\\pi_G$"
   ]
  },
  {
   "cell_type": "code",
   "execution_count": 4,
   "metadata": {},
   "outputs": [],
   "source": [
    "POSTERIORS = ['vb_diag', 'vb_full', 'mcmc_long', 'mcmc_short']\n",
    "POSTERIOR_FUNCS = {\n",
    "    'vb_diag': vb_diag, \n",
    "    'vb_full': vb_full, \n",
    "    'mcmc_short': mcmc_short,\n",
    "    'mcmc_long': mcmc_long\n",
    "}\n",
    "\n",
    "\n",
    "def sample_gibbs_prior(rng_key, posterior, T=10000):\n",
    "    assert posterior in POSTERIORS\n",
    "    \n",
    "    theta_samples = []\n",
    "    \n",
    "    rng_key, rng_subkey = random.split(rng_key)\n",
    "    y_t  = model(y=None, rng_key=rng_subkey)\n",
    "    \n",
    "    pbar = tqdm.trange(T)\n",
    "    for t in pbar:     \n",
    "        rng_key, *subkeys = random.split(rng_key, 5)\n",
    "        \n",
    "        # Get q(theta | y_t)\n",
    "        theta_t = POSTERIOR_FUNCS[posterior](subkeys[0], y=y_t)\n",
    "        theta_samples.append(np.array(theta_t).copy())\n",
    "        \n",
    "        # Sample y_t\n",
    "        y_t  = model(y=None, theta=theta_t, rng_key=subkeys[3])\n",
    "        \n",
    "        if t % 100 == 0:\n",
    "            pbar.set_description(f'[mean y_t: {y_t.mean():.3f}, mean theta_t: {np.mean(theta_t):.3f}]')\n",
    "        \n",
    "    return theta_samples"
   ]
  },
  {
   "cell_type": "markdown",
   "metadata": {},
   "source": [
    "#### Get samples"
   ]
  },
  {
   "cell_type": "code",
   "execution_count": 5,
   "metadata": {
    "pycharm": {
     "name": "#%%\n"
    }
   },
   "outputs": [
    {
     "name": "stderr",
     "output_type": "stream",
     "text": [
      "[mean y_t: 0.213, mean theta_t: 0.128]: 100%|██████████| 10000/10000 [58:46<00:00,  2.84it/s] \n",
      "[mean y_t: 0.260, mean theta_t: 0.334]: 100%|██████████| 10000/10000 [5:49:55<00:00,  2.10s/it]   \n",
      "[mean y_t: 0.828, mean theta_t: 0.990]: 100%|██████████| 10000/10000 [1:04:16<00:00,  2.59it/s] \n",
      "[mean y_t: 0.235, mean theta_t: 0.159]: 100%|██████████| 10000/10000 [03:30<00:00, 47.40it/s] \n"
     ]
    }
   ],
   "source": [
    "for post in POSTERIORS:\n",
    "    thetas = sample_gibbs_prior(random.PRNGKey(9999), post, T=10000)\n",
    "    np.save(f'../../results/volatility/{post}.npy', thetas)"
   ]
  },
  {
   "cell_type": "markdown",
   "metadata": {
    "pycharm": {
     "name": "#%% md\n"
    }
   },
   "source": [
    "### Prior"
   ]
  },
  {
   "cell_type": "code",
   "execution_count": 6,
   "metadata": {
    "collapsed": false,
    "jupyter": {
     "outputs_hidden": false
    },
    "pycharm": {
     "name": "#%%\n"
    }
   },
   "outputs": [],
   "source": [
    "rng_key = random.PRNGKey(42)\n",
    "rng_key, rng_subkey = random.split(rng_key)\n",
    "thetas_prior = dist.GaussianRandomWalk(scale=sigma, num_steps=NUM_STEPS).sample(rng_subkey, (10000,))\n",
    "np.save(f'../../results/volatility/prior_volatility.npy', thetas_prior)"
   ]
  },
  {
   "cell_type": "code",
   "execution_count": null,
   "metadata": {},
   "outputs": [],
   "source": []
  }
 ],
 "metadata": {
  "interpreter": {
   "hash": "855197d9c62a73cc2c51e637634bb511a545a038af5d82db93d73410e68ac068"
  },
  "kernelspec": {
   "display_name": "Python 3 (ipykernel)",
   "language": "python",
   "name": "python3"
  },
  "language_info": {
   "codemirror_mode": {
    "name": "ipython",
    "version": 3
   },
   "file_extension": ".py",
   "mimetype": "text/x-python",
   "name": "python",
   "nbconvert_exporter": "python",
   "pygments_lexer": "ipython3",
   "version": "3.9.5"
  }
 },
 "nbformat": 4,
 "nbformat_minor": 4
}
