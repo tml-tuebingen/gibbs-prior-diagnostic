{
 "cells": [
  {
   "cell_type": "code",
   "execution_count": 1,
   "source": [
    "import warnings\n",
    "warnings.filterwarnings('ignore')\n",
    "\n",
    "# %env XLA_FLAGS=--xla_gpu_cuda_data_dir=/usr/local/cuda/\n",
    "%load_ext autoreload\n",
    "%autoreload 2\n",
    "import os\n",
    "import numpy as np\n",
    "from jax import random\n",
    "import jax.numpy as jnp\n",
    "import numpyro as npr\n",
    "import tqdm as tqdm\n",
    "from math import *\n",
    "import numpyro.distributions as dist\n",
    "\n",
    "\n",
    "npr.set_platform('gpu')"
   ],
   "outputs": [],
   "metadata": {}
  },
  {
   "cell_type": "markdown",
   "source": [
    "### Models"
   ],
   "metadata": {}
  },
  {
   "cell_type": "markdown",
   "source": [
    "#### True model"
   ],
   "metadata": {}
  },
  {
   "cell_type": "code",
   "execution_count": 2,
   "source": [
    "L = 10\n",
    "\n",
    "def model_true(y=None, theta=None, rng_key=random.PRNGKey(1)):\n",
    "    key, *subkeys = random.split(rng_key, 5)  # subkeys\n",
    "    \n",
    "    if theta is None:\n",
    "        # Sample from priors \\pi(\\mu, \\sigma^2)\n",
    "        mu = npr.sample('mu', dist.Normal(0, 1), rng_key=subkeys[0])\n",
    "        sigma_sq = npr.sample('sigma_sq', dist.Gamma(1, 1), rng_key=subkeys[1])\n",
    "    else:\n",
    "        mu, sigma_sq = theta\n",
    "    \n",
    "    # The true likelihood, sum of LogNormal rvs.\n",
    "    with npr.plate('L', L):\n",
    "        x = npr.sample('X', dist.LogNormal(mu, jnp.sqrt(sigma_sq)), rng_key=subkeys[2])\n",
    "        \n",
    "    out = npr.sample('Y', dist.Delta(x.sum(0)), rng_key=subkeys[3], obs=y)\n",
    "        \n",
    "    if theta is None and y is not None:\n",
    "        return (mu, sigma_sq)\n",
    "    else:\n",
    "        return out\n",
    "    \n",
    "    \n",
    "# Test\n",
    "model_true()"
   ],
   "outputs": [
    {
     "output_type": "execute_result",
     "data": {
      "text/plain": [
       "DeviceArray(7.4827366, dtype=float32)"
      ]
     },
     "metadata": {},
     "execution_count": 2
    }
   ],
   "metadata": {}
  },
  {
   "cell_type": "markdown",
   "source": [
    "#### Approximate model"
   ],
   "metadata": {}
  },
  {
   "cell_type": "code",
   "execution_count": 3,
   "source": [
    "def model_abc(y=None, theta=None, rng_key=random.PRNGKey(1)):\n",
    "    key, *subkeys = random.split(rng_key, 4)  # subkeys\n",
    "    \n",
    "    if theta is None:\n",
    "        # Sample from priors \\pi(\\mu, \\sigma^2)\n",
    "        mu = npr.sample('mu', dist.Normal(0, 1), rng_key=subkeys[0])\n",
    "        sigma_sq = npr.sample('sigma_sq', dist.Gamma(1, 1), rng_key=subkeys[1])\n",
    "    else:\n",
    "        mu, sigma_sq = theta\n",
    "    \n",
    "    # Approximate likelihood\n",
    "    beta_sq = jnp.log((jnp.exp(sigma_sq)-1)/L + 1)\n",
    "    alpha = mu + jnp.log(L) + 0.5*(sigma_sq - beta_sq)\n",
    "        \n",
    "    out = npr.sample('Y', dist.LogNormal(alpha, jnp.sqrt(beta_sq)), rng_key=subkeys[2], obs=y)\n",
    "    \n",
    "    if theta is None and y is not None:\n",
    "        return (mu, sigma_sq)\n",
    "    else:\n",
    "        return out\n",
    "    \n",
    "    \n",
    "# Test\n",
    "model_abc()"
   ],
   "outputs": [
    {
     "output_type": "execute_result",
     "data": {
      "text/plain": [
       "DeviceArray(0.8266345, dtype=float32)"
      ]
     },
     "metadata": {},
     "execution_count": 3
    }
   ],
   "metadata": {}
  },
  {
   "cell_type": "markdown",
   "source": [
    "### Methods"
   ],
   "metadata": {}
  },
  {
   "cell_type": "code",
   "execution_count": 4,
   "source": [
    "from numpyro.infer import SVI, Trace_ELBO, MCMC, NUTS\n",
    "from numpyro.infer.autoguide import *\n",
    "from jax import jit\n",
    "\n",
    "\n",
    "@jit\n",
    "def laplace(rng_key, y):    \n",
    "    key, *subkeys = random.split(rng_key, 4)\n",
    "    \n",
    "    guide = AutoLaplaceApproximation(model_abc)\n",
    "    lr = 1e-3\n",
    "    n_iter = 5000\n",
    "\n",
    "    optimizer = npr.optim.ClippedAdam(step_size=lr)\n",
    "    svi = SVI(model_abc, guide, optimizer, loss=Trace_ELBO(num_particles=1))\n",
    "    svi_result = svi.run(rng_key, n_iter, y=y, progress_bar=False)\n",
    "    \n",
    "    mu = guide.sample_posterior(subkeys[1], svi_result.params)['mu']\n",
    "    sigma_sq = guide.sample_posterior(subkeys[2], svi_result.params)['sigma_sq']\n",
    "\n",
    "    return mu, sigma_sq"
   ],
   "outputs": [],
   "metadata": {}
  },
  {
   "cell_type": "markdown",
   "source": [
    "### Gibbs-prior sampler"
   ],
   "metadata": {}
  },
  {
   "cell_type": "code",
   "execution_count": 5,
   "source": [
    "def sample_gibbs_prior(rng_key, T=10000):    \n",
    "    theta_samples = []\n",
    "    \n",
    "    rng_key, rng_subkey = random.split(rng_key)\n",
    "    y_t  = model_true(y=None, theta=None, rng_key=rng_subkey)\n",
    "    \n",
    "    pbar = tqdm.trange(T)\n",
    "    for t in pbar:     \n",
    "        rng_key, *subkeys = random.split(rng_key, 3)\n",
    "        \n",
    "        # Get q(theta | y_t)\n",
    "        theta_t = laplace(subkeys[0], y_t)\n",
    "        theta_samples.append(np.array(theta_t).copy())\n",
    "\n",
    "        # Sample y_t, always using the true model\n",
    "        y_t  = model_true(y=None, theta=theta_t, rng_key=subkeys[1])\n",
    "        \n",
    "        # Sometimes y_t == inf due to precision overflow\n",
    "        # In this case, just sample iid again\n",
    "        while y_t == inf:\n",
    "            rng_key, subkey = random.split(rng_key)\n",
    "            y_t  = model_true(y=None, theta=theta_t, rng_key=subkey)\n",
    "        \n",
    "        if t % 100 == 0:\n",
    "            pbar.set_description(f'[y_t: {y_t:.3f}, theta_t: {np.array(theta_t)}]')\n",
    "        \n",
    "    return np.array(theta_samples)"
   ],
   "outputs": [],
   "metadata": {}
  },
  {
   "cell_type": "markdown",
   "source": [
    "### Sample $\\pi_G$ for the ABC model"
   ],
   "metadata": {}
  },
  {
   "cell_type": "code",
   "execution_count": 6,
   "source": [
    "rng_key = random.PRNGKey(1234)\n",
    "\n",
    "# Laplace\n",
    "thetas_laplace = sample_gibbs_prior(rng_key, T=10000)\n",
    "np.save('../../results/log_normal/laplace.npy', thetas_laplace)"
   ],
   "outputs": [
    {
     "output_type": "stream",
     "name": "stderr",
     "text": [
      "[y_t: 13.843, theta_t: [0.05588176 0.18867423]]: 100%|██████████| 10000/10000 [15:08<00:00, 11.00it/s]\n"
     ]
    }
   ],
   "metadata": {}
  },
  {
   "cell_type": "markdown",
   "source": [
    "### Sampling from the prior"
   ],
   "metadata": {
    "pycharm": {
     "name": "#%% md\n"
    }
   }
  },
  {
   "cell_type": "code",
   "execution_count": 7,
   "source": [
    "def sample_prior(n_samples):\n",
    "    rng_keys = random.split(random.PRNGKey(1), 2)\n",
    "    mu = dist.Normal(0, 1).sample(rng_keys[0], (n_samples, 1))\n",
    "    sigma_sq = dist.Gamma(1, 1).sample(rng_keys[1], (n_samples, 1))\n",
    "    theta = np.concatenate((mu, sigma_sq), axis=-1)\n",
    "    return theta\n",
    "\n",
    "thetas_prior = sample_prior(n_samples=10000)\n",
    "np.save('../../results/log_normal/prior_log_normal.npy', thetas_prior)"
   ],
   "outputs": [],
   "metadata": {
    "collapsed": false,
    "pycharm": {
     "name": "#%%\n"
    }
   }
  },
  {
   "cell_type": "code",
   "execution_count": null,
   "source": [],
   "outputs": [],
   "metadata": {}
  }
 ],
 "metadata": {
  "kernelspec": {
   "name": "python3",
   "display_name": "Python 3.9.5 64-bit ('base': conda)"
  },
  "language_info": {
   "codemirror_mode": {
    "name": "ipython",
    "version": 3
   },
   "file_extension": ".py",
   "mimetype": "text/x-python",
   "name": "python",
   "nbconvert_exporter": "python",
   "pygments_lexer": "ipython3",
   "version": "3.9.5"
  },
  "interpreter": {
   "hash": "855197d9c62a73cc2c51e637634bb511a545a038af5d82db93d73410e68ac068"
  }
 },
 "nbformat": 4,
 "nbformat_minor": 4
}