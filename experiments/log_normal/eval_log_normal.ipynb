{
 "cells": [
  {
   "cell_type": "code",
   "execution_count": null,
   "metadata": {
    "collapsed": true
   },
   "outputs": [],
   "source": [
    "import numpy as np\n",
    "from sklearn.neighbors import KernelDensity\n",
    "\n",
    "import seaborn as sns\n",
    "import matplotlib.pyplot as plt\n",
    "from matplotlib.lines import Line2D\n",
    "\n",
    "# Plots\n",
    "plt.style.use('seaborn-whitegrid')\n",
    "\n",
    "# PLOT PREAMBLE: LIKE LATEX\n",
    "LATEX_WIDTH = 6\n",
    "LATEX_HEIGHT = 3.24\n",
    "\n",
    "SCRIPT_SIZE = 7\n",
    "\n",
    "#Direct input\n",
    "plt.rcParams['text.latex.preamble']=r\"\\usepackage{lmodern}\"\n",
    "#Options\n",
    "params = {'text.usetex' : True,\n",
    "          'font.size' : SCRIPT_SIZE,\n",
    "          'axes.labelsize' : SCRIPT_SIZE,\n",
    "          'xtick.labelsize' : SCRIPT_SIZE,\n",
    "          'ytick.labelsize' : SCRIPT_SIZE,\n",
    "          'legend.fontsize' : SCRIPT_SIZE,\n",
    "          'figure.titlesize' : SCRIPT_SIZE,\n",
    "          'font.family' : 'serif',\n",
    "          'font.serif': ['Computer Modern Roman']\n",
    "          }\n",
    "plt.rcParams.update(params)"
   ]
  },
  {
   "cell_type": "code",
   "execution_count": null,
   "outputs": [],
   "source": [
    "# Load data\n",
    "thetas_prior = np.load('../../results/log_normal/prior_log_normal.npy').squeeze()\n",
    "thetas_approx = np.load('../../results/log_normal/laplace.npy').squeeze()\n",
    "\n",
    "mu_true, sigma_sq_true = thetas_prior[:, 0], thetas_prior[:, 1]\n",
    "mu_approx, sigma_sq_approx = thetas_approx[:, 0], thetas_approx[:, 1]"
   ],
   "metadata": {
    "collapsed": false,
    "pycharm": {
     "name": "#%%\n"
    }
   }
  },
  {
   "cell_type": "code",
   "execution_count": null,
   "outputs": [],
   "source": [
    "def fit_kde(ts, vals, kernel, bw, mirror=False):\n",
    "    \"\"\"Fit kernel density to data. If mirror=True, symmetrically extend the dataset around 0 to get the hard border at 0 right.\"\"\"\n",
    "    kde = KernelDensity(bandwidth=bw, kernel=kernel)\n",
    "    if mirror==True:\n",
    "        vals_extended = np.concatenate((-vals, vals))\n",
    "        kde.fit(vals_extended[:, None])\n",
    "        probs = 2 * np.exp(kde.score_samples(ts[:, None]))\n",
    "    else:\n",
    "        kde.fit(vals[:, None])\n",
    "        probs = np.exp(kde.score_samples(ts[:, None]))\n",
    "    return probs"
   ],
   "metadata": {
    "collapsed": false,
    "pycharm": {
     "name": "#%%\n"
    }
   }
  },
  {
   "cell_type": "code",
   "execution_count": null,
   "outputs": [],
   "source": [
    "alpha_bins = .5\n",
    "fig, axs = plt.subplots(ncols=2, figsize=(.55*LATEX_WIDTH, .2*LATEX_WIDTH))\n",
    "\n",
    "bins_mu = np.linspace(-5, 5, 55)\n",
    "sns.histplot(mu_true, ax=axs[0], label='Prior', color='royalblue', kde=False, stat='density', edgecolor=\"white\", bins=bins_mu, alpha=alpha_bins)\n",
    "sns.histplot(mu_approx, ax=axs[0], label='Gibbs prior', color='crimson', kde=False, stat='density', edgecolor=\"white\", bins=bins_mu, alpha=alpha_bins)\n",
    "axs[0].set_xlabel(r'Mean $\\mu$')\n",
    "axs[0].set_xlim((-5, 5))\n",
    "\n",
    "bins_sigma_sq = np.linspace(0, 10, 55)\n",
    "sns.histplot(sigma_sq_true, stat='density', ax=axs[1], label=r'Original prior', color='royalblue', kde=False, edgecolor=\"white\", bins=bins_sigma_sq, alpha=alpha_bins)\n",
    "sns.histplot(np.clip(sigma_sq_approx, a_min=0, a_max=10), stat='density', ax=axs[1], color='crimson',\n",
    "             label=r'Gibbs prior', kde=False, edgecolor=\"white\", bins=bins_sigma_sq, alpha=alpha_bins)\n",
    "\n",
    "\n",
    "# Manually fit kernel density for sigma_sq, because Gaussian kernel is inappropriate for the hard boundary at 0\n",
    "# mu\n",
    "ts_mu = np.linspace(-5, 5, 500)\n",
    "bw_mu = .25\n",
    "\n",
    "prob_mu_true = fit_kde(ts_mu, mu_true, 'gaussian', bw_mu)\n",
    "prob_mu_approx = fit_kde(ts_mu, mu_approx, 'gaussian', bw_mu)\n",
    "\n",
    "axs[0].plot(ts_mu, prob_mu_true, color='royalblue', linewidth=1, linestyle='-')\n",
    "axs[0].plot(ts_mu, prob_mu_approx, color='crimson', linewidth=1, linestyle='--')\n",
    "\n",
    "ts_sigma_sq = np.linspace(0, 10, 500)\n",
    "bw_sigma_sq = .2\n",
    "\n",
    "prob_sigma_true = fit_kde(ts_sigma_sq, sigma_sq_true, 'gaussian', bw_sigma_sq, mirror=True)\n",
    "prob_sigma_approx = fit_kde(ts_sigma_sq, sigma_sq_approx, 'gaussian', bw_sigma_sq, mirror=True)\n",
    "\n",
    "axs[1].plot(ts_sigma_sq, prob_sigma_true, color='royalblue', linewidth=1, linestyle='-')\n",
    "axs[1].plot(ts_sigma_sq, prob_sigma_approx, color='crimson', linewidth=1, linestyle='--')\n",
    "\n",
    "axs[1].set_xlim([0, 9])\n",
    "\n",
    "axs[1].set_xlabel(r'Variance $\\sigma^2$')\n",
    "axs[1].set_ylabel('')\n",
    "# Ticks\n",
    "axs[0].set_yticks([0, 0.25, 0.5])\n",
    "axs[0].set_ylim((0, 0.5))\n",
    "axs[0].set_xticks([-5, 0, 5])\n",
    "axs[1].set_yticks([0, 0.5, 1])\n",
    "axs[1].set_xticks([0, 5])\n",
    "\n",
    "\n",
    "handles = [Line2D([], [], label='Original prior', color='royalblue', linestyle='-'),\n",
    "           Line2D([], [], label='Gibbs prior', color='crimson', linestyle='--')]\n",
    "\n",
    "plt.legend(handles=handles, framealpha=1, frameon=True)\n",
    "plt.show()"
   ],
   "metadata": {
    "collapsed": false,
    "pycharm": {
     "name": "#%%\n"
    }
   }
  }
 ],
 "metadata": {
  "kernelspec": {
   "display_name": "Python 3",
   "language": "python",
   "name": "python3"
  },
  "language_info": {
   "codemirror_mode": {
    "name": "ipython",
    "version": 2
   },
   "file_extension": ".py",
   "mimetype": "text/x-python",
   "name": "python",
   "nbconvert_exporter": "python",
   "pygments_lexer": "ipython2",
   "version": "2.7.6"
  }
 },
 "nbformat": 4,
 "nbformat_minor": 0
}